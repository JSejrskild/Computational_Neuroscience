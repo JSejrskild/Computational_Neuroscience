{
 "cells": [
  {
   "cell_type": "markdown",
   "metadata": {},
   "source": [
    "## Problem set 3\n"
   ]
  },
  {
   "cell_type": "markdown",
   "metadata": {},
   "source": [
    "Question 1 :\n",
    "Given the synaptic plasticity learning rule in the following code chunk, please state for each of the conditions described in the following bullets whether the resulting change in weight be zero, synaptic strengthening, or synaptic weakening."
   ]
  },
  {
   "cell_type": "code",
   "execution_count": 1,
   "metadata": {},
   "outputs": [],
   "source": [
    "def update_weight_stdp():\n",
    "    delta_stdp = 0\n",
    "    n_pre_spikes = spike1.sum().astype(int)\n",
    "    n_post_spikes = spike2.sum().astype(int)\n",
    "    pre_spike_times = t[spike1==1]\n",
    "    post_spike_times = t[spike2==1]\n",
    "    for i in range(n_pre_spikes):\n",
    "        for j in range(n_post_spikes):\n",
    "            T_pre = pre_spike_times[i]\n",
    "            T_post = post_spike_times[j]\n",
    "            delta_T = T_post - T_pre\n",
    "            if delta_T > 0:\n",
    "                delta_stdp += np.exp(-(delta_T)/tau_pos)\n",
    "            else:\n",
    "                delta_stdp += np.exp((delta_T)/tau_neg)\n",
    "\n",
    "    pre = g1.sum()\n",
    "    post_above_thresh = np.clip(g2.sum() - theta, 0, None) * (1 - w_12[trl]) * delta_stdp\n",
    "    post_below_thresh = np.clip(theta - g2.sum(), 0, None) * w_12[trl]\n",
    "    delta_w = alpha * pre * post_above_thresh - beta * pre * post_below_thresh\n",
    "\n",
    "    return delta_w"
   ]
  },
  {
   "cell_type": "markdown",
   "metadata": {},
   "source": [
    "Answers:\n",
    "\n",
    "A)\n",
    "If: g1.sum() is greater than 0, and g2_sum() - theta is less than 0. then there will be synaptic weakening as np.clip(g2.sum()-theta, 0, None) will be zero. \n",
    "So in the calculation of delta_w, everything before the minus will be zero, causing the delta to be be negative. \n",
    "\n",
    "B)\n",
    "If g1.sum() is 0, and g2_sum() - theta is greater than 0. then there will be no change as pre=0 and the calculation of delta_w therefore is:\n",
    "delta_w = alpha * 0 * post_above_thresh - beta * 0 * post_below_thresh\n",
    "causing delta_w to be 0\n",
    "\n",
    "C)\n",
    "If g1.sum() is greater than 0, and g2_sum() - theta is greater than 0.\n",
    "then there will be synaptic strengthning as g2_sum() is bigger than theta, and theta-g2.sum() will therefore be negative resulting in post_below_thresh being 0. \n",
    "delta_w = alpha * pre * post_above_thresh - beta * pre * 0 = positive delta_w\n"
   ]
  },
  {
   "cell_type": "markdown",
   "metadata": {},
   "source": [
    "Question 17\n",
    "In the following code chunk, w[j, k] refers to which of the following:\n",
    "\n",
    "a. The connection weight between postsynaptic neuron j and presynaptic neuron k.\n",
    "\n",
    "b.\n",
    "The connection weight between presynaptic neuron j and postsynaptic neuron k.\n",
    "\n",
    "c.\n",
    "The connection weight between postsynaptic neuron j and all other presynaptic neurons.\n",
    "\n",
    "d.\n",
    "The connection weight between presynaptic neuron j and all other postsynaptic neurons."
   ]
  },
  {
   "cell_type": "code",
   "execution_count": 2,
   "metadata": {},
   "outputs": [
    {
     "ename": "NameError",
     "evalue": "name 'n' is not defined",
     "output_type": "error",
     "traceback": [
      "\u001b[31m---------------------------------------------------------------------------\u001b[39m",
      "\u001b[31mNameError\u001b[39m                                 Traceback (most recent call last)",
      "\u001b[36mCell\u001b[39m\u001b[36m \u001b[39m\u001b[32mIn[2]\u001b[39m\u001b[32m, line 1\u001b[39m\n\u001b[32m----> \u001b[39m\u001b[32m1\u001b[39m \u001b[38;5;28;01mfor\u001b[39;00m i \u001b[38;5;129;01min\u001b[39;00m \u001b[38;5;28mrange\u001b[39m(\u001b[32m1\u001b[39m, \u001b[43mn\u001b[49m):\n\u001b[32m      3\u001b[39m     dt = t[i] - t[i - \u001b[32m1\u001b[39m]\n\u001b[32m      5\u001b[39m     \u001b[38;5;28;01mfor\u001b[39;00m j \u001b[38;5;129;01min\u001b[39;00m \u001b[38;5;28mrange\u001b[39m(n_cells):\n",
      "\u001b[31mNameError\u001b[39m: name 'n' is not defined"
     ]
    }
   ],
   "source": [
    "for i in range(1, n):\n",
    "\n",
    "    dt = t[i] - t[i - 1]\n",
    "\n",
    "    for j in range(n_cells):\n",
    "\n",
    "        for k in range(n_cells):\n",
    "            if j != k:\n",
    "                I_net[j, i - 1] += w[j, k] * g[k, i - 1]\n",
    "\n",
    "        dvdt = (k * (v[j, i - 1] - vr) * (v[j, i - 1] - vt) - u[j, i - 1] - I_net[j, i - 1]) / C\n",
    "        dudt = a * (b * (v[j, i - 1] - vr) - u[j, i - 1])\n",
    "        dgdt = (-g[j, i - 1] + psp_amp * spike[j, i - 1]) / psp_decay\n",
    "\n",
    "        v[j, i] = v[j, i - 1] + dvdt * dt\n",
    "        u[j, i] = u[j, i - 1] + dudt * dt\n",
    "        g[j, i] = g[j, i - 1] + dgdt * dt\n",
    "\n",
    "        if v[j, i] >= vpeak:\n",
    "            v[j, i - 1] = vpeak\n",
    "            v[j, i] = c\n",
    "            u[j, i] = u[j, i] + d\n",
    "            spike[j, i] = 1"
   ]
  }
 ],
 "metadata": {
  "kernelspec": {
   "display_name": "compneuro",
   "language": "python",
   "name": "python3"
  },
  "language_info": {
   "codemirror_mode": {
    "name": "ipython",
    "version": 3
   },
   "file_extension": ".py",
   "mimetype": "text/x-python",
   "name": "python",
   "nbconvert_exporter": "python",
   "pygments_lexer": "ipython3",
   "version": "3.13.2"
  }
 },
 "nbformat": 4,
 "nbformat_minor": 2
}
