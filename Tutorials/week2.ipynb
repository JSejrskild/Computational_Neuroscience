{
 "cells": [
  {
   "cell_type": "markdown",
   "metadata": {},
   "source": [
    "## Week 2 tutorial \n",
    "\n",
    "Here is the practice problems for week 2. "
   ]
  },
  {
   "cell_type": "code",
   "execution_count": 2,
   "metadata": {},
   "outputs": [],
   "source": [
    "# Install packages\n",
    "import numpy as np"
   ]
  },
  {
   "cell_type": "code",
   "execution_count": 3,
   "metadata": {},
   "outputs": [
    {
     "name": "stdout",
     "output_type": "stream",
     "text": [
      "[1 2 3]\n"
     ]
    }
   ],
   "source": [
    "# Create a numpy.ndarray with shape (3,) and set its elements to 1, 2, and 3, in that order.\n",
    "\n",
    "my_list = [1, 2, 3]\n",
    "my_array = np.array(my_list)\n",
    "print(my_array)"
   ]
  },
  {
   "cell_type": "code",
   "execution_count": 4,
   "metadata": {},
   "outputs": [
    {
     "name": "stdout",
     "output_type": "stream",
     "text": [
      "(3, 1)\n"
     ]
    }
   ],
   "source": [
    "# Create a numpy.ndarray with shape (3, 1) and set its elements to 1, 2, and 3, in that order.\n",
    "my_array = np.array([[1, 2, 3]]).T # Here we transpose the array to ensure the shape is 3, 1 not 1, 3\n",
    "print(my_array.shape)"
   ]
  },
  {
   "cell_type": "code",
   "execution_count": 5,
   "metadata": {},
   "outputs": [
    {
     "name": "stdout",
     "output_type": "stream",
     "text": [
      "(3, 2)\n",
      "[1 2 3]\n",
      "[4 5 6]\n"
     ]
    }
   ],
   "source": [
    "#Create a numpy.ndarray with shape (3, 2) and set the elements indexed by [:, 0] to 1, 2, and 3, and those indexed by [:, 1] to 4, 5, 6 in that order.\n",
    "my_array=np.array([[1,2,3],[4,5,6]]).T\n",
    "print(my_array.shape)\n",
    "\n",
    "#Indexing\n",
    "print(my_array[:, 0])\n",
    "print(my_array[:, 1])"
   ]
  },
  {
   "cell_type": "code",
   "execution_count": 6,
   "metadata": {},
   "outputs": [
    {
     "name": "stdout",
     "output_type": "stream",
     "text": [
      "[[0 0 0 0]\n",
      " [0 0 0 0]\n",
      " [0 0 0 0]\n",
      " [0 0 0 0]]\n"
     ]
    }
   ],
   "source": [
    "#Create a numpy.ndarray with shape (4, 4) and set every element to 0 with data type int.\n",
    "my_array = np.zeros((4, 4), dtype=int)\n",
    "print(my_array)\n"
   ]
  },
  {
   "cell_type": "code",
   "execution_count": 7,
   "metadata": {},
   "outputs": [
    {
     "name": "stdout",
     "output_type": "stream",
     "text": [
      "[[1. 1. 1. 1.]\n",
      " [1. 1. 1. 1.]\n",
      " [1. 1. 1. 1.]\n",
      " [1. 1. 1. 1.]]\n"
     ]
    }
   ],
   "source": [
    "#Create a numpy.ndarray with shape (4, 4) and set every element to 1 data type float.\n",
    "my_array = np.ones((4, 4), dtype=float)\n",
    "print(my_array)"
   ]
  },
  {
   "cell_type": "code",
   "execution_count": 8,
   "metadata": {},
   "outputs": [
    {
     "name": "stdout",
     "output_type": "stream",
     "text": [
      "[1.2  2.46 3.72 4.98 6.24 7.5 ]\n"
     ]
    }
   ],
   "source": [
    "#Create a numpy.ndarray that contains a sequence of 6 evenly spaced numbers starting with the float number 1.2 and ending with the float number 7.5.\n",
    "my_array= np.linspace(1.2, 7.5, num=6)\n",
    "print(my_array)"
   ]
  },
  {
   "cell_type": "code",
   "execution_count": 9,
   "metadata": {},
   "outputs": [
    {
     "name": "stdout",
     "output_type": "stream",
     "text": [
      "[1 3 5]\n"
     ]
    }
   ],
   "source": [
    "#Create a numpy.ndarray that contains the sequence of numbers starting with the int number 1 and ending with the int number 7 with every 2 increments included.\n",
    "my_array= np.arange(1,7,2)\n",
    "print(my_array)\n"
   ]
  },
  {
   "cell_type": "code",
   "execution_count": 10,
   "metadata": {},
   "outputs": [
    {
     "name": "stdout",
     "output_type": "stream",
     "text": [
      "[[ 1  2  3]\n",
      " [ 4  5  6]\n",
      " [ 7  8  9]\n",
      " [10 11 12]]\n",
      "[[ 1  4  7 10]\n",
      " [ 2  5  8 11]\n",
      " [ 3  6  9 12]]\n",
      "[[ 1  2  3  4]\n",
      " [ 5  6  7  8]\n",
      " [ 9 10 11 12]]\n"
     ]
    }
   ],
   "source": [
    "# \n",
    "tmp = np.array([[1, 2, 3], [4, 5, 6], [7, 8, 9], [10, 11, 12]])\n",
    "print(tmp)\n",
    "\n",
    "x= tmp.T\n",
    "print(x)\n",
    "\n",
    "y= tmp.reshape(3, 4)\n",
    "print(y)"
   ]
  },
  {
   "cell_type": "code",
   "execution_count": 11,
   "metadata": {},
   "outputs": [
    {
     "name": "stdout",
     "output_type": "stream",
     "text": [
      "[[-4 -2  0]\n",
      " [ 2  4  6]]\n"
     ]
    }
   ],
   "source": [
    "#For x and y defined in the following code chunk, compute their element-wise difference.\n",
    "\n",
    "x = np.array([[1, 2, 3], [4, 5, 6]])\n",
    "y = np.array([[5, 4, 3], [2, 1, 0]])\n",
    "\n",
    "diff = x - y\n",
    "print(diff)"
   ]
  },
  {
   "cell_type": "code",
   "execution_count": 12,
   "metadata": {},
   "outputs": [
    {
     "name": "stdout",
     "output_type": "stream",
     "text": [
      "[[22  4]\n",
      " [58 13]]\n"
     ]
    }
   ],
   "source": [
    "#Compute the matrix product of x and y.T.\n",
    "y_transpose = y.T\n",
    "m_product = np.dot(x, y_transpose)\n",
    "print(m_product)"
   ]
  },
  {
   "cell_type": "code",
   "execution_count": 13,
   "metadata": {},
   "outputs": [
    {
     "name": "stdout",
     "output_type": "stream",
     "text": [
      "6\n"
     ]
    }
   ],
   "source": [
    "#Use the function np.max() to compute the maximum value in the array x.\n",
    "print(np.max(x))"
   ]
  },
  {
   "cell_type": "code",
   "execution_count": 14,
   "metadata": {},
   "outputs": [
    {
     "name": "stdout",
     "output_type": "stream",
     "text": [
      "5\n"
     ]
    }
   ],
   "source": [
    "#Use the numpy.ndarray method max() to return the maximum values along the first dimension in the array y.\n",
    "print(max(y[0]))"
   ]
  },
  {
   "cell_type": "code",
   "execution_count": 15,
   "metadata": {},
   "outputs": [
    {
     "name": "stdout",
     "output_type": "stream",
     "text": [
      "[2.         5.74456265 3.        ]\n"
     ]
    }
   ],
   "source": [
    "#Compute the element-wise square root of the following array np.array([4, 33, 9]).\n",
    "x = np.array([4,33,9])\n",
    "print(np.sqrt(x))"
   ]
  },
  {
   "cell_type": "code",
   "execution_count": 16,
   "metadata": {},
   "outputs": [],
   "source": [
    "x = np.random.randn(3, 4, 2)\n",
    "y = np.ones(x.shape)"
   ]
  },
  {
   "cell_type": "code",
   "execution_count": 17,
   "metadata": {},
   "outputs": [
    {
     "name": "stdout",
     "output_type": "stream",
     "text": [
      "(2, 4, 2)\n"
     ]
    }
   ],
   "source": [
    "#Use slicing or indexing to return the first 2 elements of x in dimension 1, which should result in an array with shape equal to (2, 4, 2).\n",
    "print(x[:2,:,:].shape)"
   ]
  },
  {
   "cell_type": "code",
   "execution_count": 18,
   "metadata": {},
   "outputs": [
    {
     "name": "stdout",
     "output_type": "stream",
     "text": [
      "(3, 4, 2)\n",
      "(2,)\n"
     ]
    }
   ],
   "source": [
    "# Use slicing or indexing to return the first element in x in dimension 1, the second element in dimension 2, and every element in dimension 3. Your result should be an array with shape equal to (2, ).\n",
    "print(x.shape)\n",
    "print(x[0,1,:].shape)\n"
   ]
  },
  {
   "cell_type": "code",
   "execution_count": 19,
   "metadata": {},
   "outputs": [
    {
     "name": "stdout",
     "output_type": "stream",
     "text": [
      "(3, 8, 2)\n"
     ]
    }
   ],
   "source": [
    "# Concatenate x and y along the second dimension.\n",
    "print(np.concatenate((x, y), 1).shape)\n"
   ]
  },
  {
   "cell_type": "code",
   "execution_count": 23,
   "metadata": {},
   "outputs": [
    {
     "name": "stdout",
     "output_type": "stream",
     "text": [
      "[[[10.55343467 11.11914555]\n",
      "  [ 9.87360746  9.9609172 ]\n",
      "  [ 9.11659656  9.10100844]\n",
      "  [11.04040587  9.497036  ]]\n",
      "\n",
      " [[ 9.89648269 10.79268113]\n",
      "  [10.05145772 10.91846221]\n",
      "  [11.07003166 11.39335676]\n",
      "  [10.61717148 11.59806532]]\n",
      "\n",
      " [[ 9.81765945  8.68988192]\n",
      "  [10.31899466  8.09312267]\n",
      "  [10.57888322  9.51748772]\n",
      "  [10.12915069 11.36794453]]]\n"
     ]
    }
   ],
   "source": [
    "#Make a deep copy of x, add 10 to every element.\n",
    "deep_x = np.array(x)+10\n",
    "print(deep_x)"
   ]
  },
  {
   "cell_type": "code",
   "execution_count": 34,
   "metadata": {},
   "outputs": [
    {
     "name": "stdout",
     "output_type": "stream",
     "text": [
      "(3, 4, 2)\n",
      "[[[ 0.          0.        ]\n",
      "  [ 0.          0.        ]\n",
      "  [ 0.          0.        ]\n",
      "  [ 0.          0.        ]]\n",
      "\n",
      " [[-0.10351731  0.79268113]\n",
      "  [ 0.05145772  0.91846221]\n",
      "  [ 1.07003166  1.39335676]\n",
      "  [ 0.61717148  1.59806532]]\n",
      "\n",
      " [[-0.18234055 -1.31011808]\n",
      "  [ 0.31899466 -1.90687733]\n",
      "  [ 0.57888322 -0.48251228]\n",
      "  [ 0.12915069  1.36794453]]]\n",
      "(4, 2)\n",
      "[[0. 0.]\n",
      " [0. 0.]\n",
      " [0. 0.]\n",
      " [0. 0.]]\n"
     ]
    }
   ],
   "source": [
    "#Make a deep copy of x, set every element in the first dimension to zero.\n",
    "# I think i fucked something up here\n",
    "deep_x = np.array(x)\n",
    "print(np.shape(deep_x))\n",
    "print(deep_x)\n",
    "deep_x = x[0,:,:]\n",
    "print(np.shape(deep_x))\n",
    "print(deep_x)"
   ]
  },
  {
   "cell_type": "code",
   "execution_count": 39,
   "metadata": {},
   "outputs": [
    {
     "name": "stdout",
     "output_type": "stream",
     "text": [
      "[[[ 0.          0.        ]\n",
      "  [ 0.          0.        ]\n",
      "  [ 0.          0.        ]\n",
      "  [ 0.          0.        ]]\n",
      "\n",
      " [[-0.10351731  0.79268113]\n",
      "  [ 0.05145772  0.91846221]\n",
      "  [ 1.07003166  1.39335676]\n",
      "  [ 0.61717148  1.59806532]]\n",
      "\n",
      " [[-0.18234055 -1.31011808]\n",
      "  [ 0.31899466 -1.90687733]\n",
      "  [ 0.57888322 -0.48251228]\n",
      "  [ 0.12915069  1.36794453]]]\n",
      "[[[0.         0.        ]\n",
      "  [0.         0.        ]\n",
      "  [0.         0.        ]\n",
      "  [0.         0.        ]]\n",
      "\n",
      " [[0.         0.79268113]\n",
      "  [0.         0.91846221]\n",
      "  [1.07003166 1.39335676]\n",
      "  [0.61717148 1.59806532]]\n",
      "\n",
      " [[0.         0.        ]\n",
      "  [0.         0.        ]\n",
      "  [0.57888322 0.        ]\n",
      "  [0.         1.36794453]]]\n"
     ]
    }
   ],
   "source": [
    "# Make a deep copy of x, use boolean indexing to set every element of x that is less than 0.5 to zero.\n",
    "deep_x = np.array(x)\n",
    "print(deep_x)\n",
    "deep_x[deep_x < 0.5] = 0 # If the value is less than 0.5, set it to 0\n",
    "print(deep_x)\n"
   ]
  },
  {
   "cell_type": "code",
   "execution_count": null,
   "metadata": {},
   "outputs": [],
   "source": []
  },
  {
   "cell_type": "code",
   "execution_count": null,
   "metadata": {},
   "outputs": [],
   "source": []
  },
  {
   "cell_type": "code",
   "execution_count": null,
   "metadata": {},
   "outputs": [],
   "source": []
  },
  {
   "cell_type": "code",
   "execution_count": null,
   "metadata": {},
   "outputs": [],
   "source": []
  },
  {
   "cell_type": "code",
   "execution_count": null,
   "metadata": {},
   "outputs": [],
   "source": []
  }
 ],
 "metadata": {
  "kernelspec": {
   "display_name": "Python 3",
   "language": "python",
   "name": "python3"
  },
  "language_info": {
   "codemirror_mode": {
    "name": "ipython",
    "version": 3
   },
   "file_extension": ".py",
   "mimetype": "text/x-python",
   "name": "python",
   "nbconvert_exporter": "python",
   "pygments_lexer": "ipython3",
   "version": "3.9.6"
  }
 },
 "nbformat": 4,
 "nbformat_minor": 2
}
